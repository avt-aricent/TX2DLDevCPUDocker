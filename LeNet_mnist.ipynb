{
 "cells": [
  {
   "cell_type": "markdown",
   "metadata": {},
   "source": [
    "# 0. Keras code block for reproducible results during development"
   ]
  },
  {
   "cell_type": "code",
   "execution_count": 1,
   "metadata": {},
   "outputs": [
    {
     "name": "stderr",
     "output_type": "stream",
     "text": [
      "/usr/local/lib/python3.5/dist-packages/h5py/__init__.py:36: FutureWarning: Conversion of the second argument of issubdtype from `float` to `np.floating` is deprecated. In future, it will be treated as `np.float64 == np.dtype(float).type`.\n",
      "  from ._conv import register_converters as _register_converters\n",
      "Using TensorFlow backend.\n"
     ]
    }
   ],
   "source": [
    "import numpy as np\n",
    "import tensorflow as tf\n",
    "import random as rn\n",
    "\n",
    "# The below is necessary in Python 3.2.3 onwards to\n",
    "# have reproducible behavior for certain hash-based operations.\n",
    "# See these references for further details:\n",
    "# https://docs.python.org/3.4/using/cmdline.html#envvar-PYTHONHASHSEED\n",
    "# https://github.com/fchollet/keras/issues/2280#issuecomment-306959926\n",
    "\n",
    "import os\n",
    "os.environ['PYTHONHASHSEED'] = '0'\n",
    "\n",
    "# The below is necessary for starting Numpy generated random numbers\n",
    "# in a well-defined initial state.\n",
    "\n",
    "np.random.seed(42)\n",
    "\n",
    "# The below is necessary for starting core Python generated random numbers\n",
    "# in a well-defined state.\n",
    "\n",
    "rn.seed(12345)\n",
    "\n",
    "# Force TensorFlow to use single thread.\n",
    "# Multiple threads are a potential source of\n",
    "# non-reproducible results.\n",
    "# For further details, see: https://stackoverflow.com/questions/42022950/which-seeds-have-to-be-set-where-to-realize-100-reproducibility-of-training-res\n",
    "\n",
    "session_conf = tf.ConfigProto(intra_op_parallelism_threads=1, inter_op_parallelism_threads=1)\n",
    "\n",
    "from keras import backend as K\n",
    "\n",
    "# The below tf.set_random_seed() will make random number generation\n",
    "# in the TensorFlow backend have a well-defined initial state.\n",
    "# For further details, see: https://www.tensorflow.org/api_docs/python/tf/set_random_seed\n",
    "\n",
    "tf.set_random_seed(1234)\n",
    "\n",
    "sess = tf.Session(graph=tf.get_default_graph(), config=session_conf)\n",
    "K.set_session(sess)\n",
    "\n",
    "# Rest of code follows ..."
   ]
  },
  {
   "cell_type": "markdown",
   "metadata": {},
   "source": [
    "# 1. Import essential libraries "
   ]
  },
  {
   "cell_type": "code",
   "execution_count": 2,
   "metadata": {},
   "outputs": [],
   "source": [
    "from keras.models import Model\n",
    "from keras.layers import Activation, Conv2D, Dense, Flatten, Input, MaxPooling2D\n",
    "from keras.datasets import mnist\n",
    "\n",
    "from IPython.display import SVG\n",
    "from keras.utils.vis_utils import model_to_dot\n",
    "from keras.utils import plot_model\n",
    "\n",
    "import matplotlib.pyplot as plt\n",
    "%matplotlib inline\n",
    "import cv2\n",
    "\n",
    "import pickle\n",
    "from sklearn.metrics import confusion_matrix\n",
    "from sklearn.metrics import classification_report\n",
    "import itertools"
   ]
  },
  {
   "cell_type": "code",
   "execution_count": 3,
   "metadata": {},
   "outputs": [],
   "source": [
    "#curpath = os.environ['PATH']\n",
    "#curpath += ':/usr/local/lib/python3.5/dist-packages/graphviz'\n",
    "#os.environ['PATH'] = curpath"
   ]
  },
  {
   "cell_type": "markdown",
   "metadata": {},
   "source": [
    "# 2. Create the model"
   ]
  },
  {
   "cell_type": "code",
   "execution_count": 4,
   "metadata": {},
   "outputs": [],
   "source": [
    "model_name = 'mnist_cnn'\n",
    "\n",
    "img_channels = 1\n",
    "img_rows = 32\n",
    "img_cols = 32\n",
    "num_conv_filters = 32\n",
    "conv_filter_width = 5\n",
    "conv_filter_height = 5\n",
    "\n",
    "if K.image_data_format() == 'channels_first':\n",
    "    img_shape = (img_channels, img_rows, img_cols)\n",
    "else:\n",
    "    img_shape = (img_rows, img_cols, img_channels)"
   ]
  },
  {
   "cell_type": "code",
   "execution_count": 5,
   "metadata": {},
   "outputs": [],
   "source": [
    "# With functional API\n",
    "inputs = Input(shape=img_shape)\n",
    "x = Conv2D(6, (conv_filter_width, conv_filter_height))(inputs)\n",
    "x = Activation('sigmoid')(x)\n",
    "x = MaxPooling2D(pool_size=(2,2))(x)\n",
    "x = Conv2D(16, (conv_filter_width, conv_filter_height))(x)\n",
    "x = Activation('sigmoid')(x)\n",
    "x = MaxPooling2D(pool_size=(2,2))(x)\n",
    "x = Conv2D(120, (conv_filter_width, conv_filter_height))(x)\n",
    "x = Activation('sigmoid')(x)\n",
    "x = Flatten()(x)\n",
    "x = Dense(84)(x)\n",
    "x = Activation('relu')(x)\n",
    "x = Dense(10)(x)\n",
    "predictions = Activation('softmax')(x)\n",
    "\n",
    "model = Model(inputs=inputs, outputs=predictions)"
   ]
  },
  {
   "cell_type": "code",
   "execution_count": 6,
   "metadata": {},
   "outputs": [],
   "source": [
    "model.compile(loss='sparse_categorical_crossentropy', optimizer='adam', metrics=['accuracy'])"
   ]
  },
  {
   "cell_type": "markdown",
   "metadata": {},
   "source": [
    "# 3. Visualize the model"
   ]
  },
  {
   "cell_type": "code",
   "execution_count": 7,
   "metadata": {},
   "outputs": [
    {
     "data": {
      "image/svg+xml": [
       "<svg height=\"1134pt\" viewBox=\"0.00 0.00 476.00 1134.00\" width=\"476pt\" xmlns=\"http://www.w3.org/2000/svg\" xmlns:xlink=\"http://www.w3.org/1999/xlink\">\n",
       "<g class=\"graph\" id=\"graph0\" transform=\"scale(1 1) rotate(0) translate(4 1130)\">\n",
       "<title>G</title>\n",
       "<polygon fill=\"white\" points=\"-4,4 -4,-1130 472,-1130 472,4 -4,4\" stroke=\"none\"/>\n",
       "<!-- 140587821095624 -->\n",
       "<g class=\"node\" id=\"node1\"><title>140587821095624</title>\n",
       "<polygon fill=\"none\" points=\"51.5,-1079.5 51.5,-1125.5 416.5,-1125.5 416.5,-1079.5 51.5,-1079.5\" stroke=\"black\"/>\n",
       "<text font-family=\"Times,serif\" font-size=\"14.00\" text-anchor=\"middle\" x=\"131.5\" y=\"-1098.8\">input_1: InputLayer</text>\n",
       "<polyline fill=\"none\" points=\"211.5,-1079.5 211.5,-1125.5 \" stroke=\"black\"/>\n",
       "<text font-family=\"Times,serif\" font-size=\"14.00\" text-anchor=\"middle\" x=\"245.5\" y=\"-1110.3\">input:</text>\n",
       "<polyline fill=\"none\" points=\"211.5,-1102.5 279.5,-1102.5 \" stroke=\"black\"/>\n",
       "<text font-family=\"Times,serif\" font-size=\"14.00\" text-anchor=\"middle\" x=\"245.5\" y=\"-1087.3\">output:</text>\n",
       "<polyline fill=\"none\" points=\"279.5,-1079.5 279.5,-1125.5 \" stroke=\"black\"/>\n",
       "<text font-family=\"Times,serif\" font-size=\"14.00\" text-anchor=\"middle\" x=\"348\" y=\"-1110.3\">(None, 32, 32, 1)</text>\n",
       "<polyline fill=\"none\" points=\"279.5,-1102.5 416.5,-1102.5 \" stroke=\"black\"/>\n",
       "<text font-family=\"Times,serif\" font-size=\"14.00\" text-anchor=\"middle\" x=\"348\" y=\"-1087.3\">(None, 32, 32, 1)</text>\n",
       "</g>\n",
       "<!-- 140587821095680 -->\n",
       "<g class=\"node\" id=\"node2\"><title>140587821095680</title>\n",
       "<polygon fill=\"none\" points=\"56,-996.5 56,-1042.5 412,-1042.5 412,-996.5 56,-996.5\" stroke=\"black\"/>\n",
       "<text font-family=\"Times,serif\" font-size=\"14.00\" text-anchor=\"middle\" x=\"131.5\" y=\"-1015.8\">conv2d_1: Conv2D</text>\n",
       "<polyline fill=\"none\" points=\"207,-996.5 207,-1042.5 \" stroke=\"black\"/>\n",
       "<text font-family=\"Times,serif\" font-size=\"14.00\" text-anchor=\"middle\" x=\"241\" y=\"-1027.3\">input:</text>\n",
       "<polyline fill=\"none\" points=\"207,-1019.5 275,-1019.5 \" stroke=\"black\"/>\n",
       "<text font-family=\"Times,serif\" font-size=\"14.00\" text-anchor=\"middle\" x=\"241\" y=\"-1004.3\">output:</text>\n",
       "<polyline fill=\"none\" points=\"275,-996.5 275,-1042.5 \" stroke=\"black\"/>\n",
       "<text font-family=\"Times,serif\" font-size=\"14.00\" text-anchor=\"middle\" x=\"343.5\" y=\"-1027.3\">(None, 32, 32, 1)</text>\n",
       "<polyline fill=\"none\" points=\"275,-1019.5 412,-1019.5 \" stroke=\"black\"/>\n",
       "<text font-family=\"Times,serif\" font-size=\"14.00\" text-anchor=\"middle\" x=\"343.5\" y=\"-1004.3\">(None, 28, 28, 6)</text>\n",
       "</g>\n",
       "<!-- 140587821095624&#45;&gt;140587821095680 -->\n",
       "<g class=\"edge\" id=\"edge1\"><title>140587821095624-&gt;140587821095680</title>\n",
       "<path d=\"M234,-1079.37C234,-1071.15 234,-1061.66 234,-1052.73\" fill=\"none\" stroke=\"black\"/>\n",
       "<polygon fill=\"black\" points=\"237.5,-1052.61 234,-1042.61 230.5,-1052.61 237.5,-1052.61\" stroke=\"black\"/>\n",
       "</g>\n",
       "<!-- 140587821095904 -->\n",
       "<g class=\"node\" id=\"node3\"><title>140587821095904</title>\n",
       "<polygon fill=\"none\" points=\"38,-913.5 38,-959.5 430,-959.5 430,-913.5 38,-913.5\" stroke=\"black\"/>\n",
       "<text font-family=\"Times,serif\" font-size=\"14.00\" text-anchor=\"middle\" x=\"131.5\" y=\"-932.8\">activation_1: Activation</text>\n",
       "<polyline fill=\"none\" points=\"225,-913.5 225,-959.5 \" stroke=\"black\"/>\n",
       "<text font-family=\"Times,serif\" font-size=\"14.00\" text-anchor=\"middle\" x=\"259\" y=\"-944.3\">input:</text>\n",
       "<polyline fill=\"none\" points=\"225,-936.5 293,-936.5 \" stroke=\"black\"/>\n",
       "<text font-family=\"Times,serif\" font-size=\"14.00\" text-anchor=\"middle\" x=\"259\" y=\"-921.3\">output:</text>\n",
       "<polyline fill=\"none\" points=\"293,-913.5 293,-959.5 \" stroke=\"black\"/>\n",
       "<text font-family=\"Times,serif\" font-size=\"14.00\" text-anchor=\"middle\" x=\"361.5\" y=\"-944.3\">(None, 28, 28, 6)</text>\n",
       "<polyline fill=\"none\" points=\"293,-936.5 430,-936.5 \" stroke=\"black\"/>\n",
       "<text font-family=\"Times,serif\" font-size=\"14.00\" text-anchor=\"middle\" x=\"361.5\" y=\"-921.3\">(None, 28, 28, 6)</text>\n",
       "</g>\n",
       "<!-- 140587821095680&#45;&gt;140587821095904 -->\n",
       "<g class=\"edge\" id=\"edge2\"><title>140587821095680-&gt;140587821095904</title>\n",
       "<path d=\"M234,-996.366C234,-988.152 234,-978.658 234,-969.725\" fill=\"none\" stroke=\"black\"/>\n",
       "<polygon fill=\"black\" points=\"237.5,-969.607 234,-959.607 230.5,-969.607 237.5,-969.607\" stroke=\"black\"/>\n",
       "</g>\n",
       "<!-- 140587821096128 -->\n",
       "<g class=\"node\" id=\"node4\"><title>140587821096128</title>\n",
       "<polygon fill=\"none\" points=\"4.5,-830.5 4.5,-876.5 463.5,-876.5 463.5,-830.5 4.5,-830.5\" stroke=\"black\"/>\n",
       "<text font-family=\"Times,serif\" font-size=\"14.00\" text-anchor=\"middle\" x=\"131.5\" y=\"-849.8\">max_pooling2d_1: MaxPooling2D</text>\n",
       "<polyline fill=\"none\" points=\"258.5,-830.5 258.5,-876.5 \" stroke=\"black\"/>\n",
       "<text font-family=\"Times,serif\" font-size=\"14.00\" text-anchor=\"middle\" x=\"292.5\" y=\"-861.3\">input:</text>\n",
       "<polyline fill=\"none\" points=\"258.5,-853.5 326.5,-853.5 \" stroke=\"black\"/>\n",
       "<text font-family=\"Times,serif\" font-size=\"14.00\" text-anchor=\"middle\" x=\"292.5\" y=\"-838.3\">output:</text>\n",
       "<polyline fill=\"none\" points=\"326.5,-830.5 326.5,-876.5 \" stroke=\"black\"/>\n",
       "<text font-family=\"Times,serif\" font-size=\"14.00\" text-anchor=\"middle\" x=\"395\" y=\"-861.3\">(None, 28, 28, 6)</text>\n",
       "<polyline fill=\"none\" points=\"326.5,-853.5 463.5,-853.5 \" stroke=\"black\"/>\n",
       "<text font-family=\"Times,serif\" font-size=\"14.00\" text-anchor=\"middle\" x=\"395\" y=\"-838.3\">(None, 14, 14, 6)</text>\n",
       "</g>\n",
       "<!-- 140587821095904&#45;&gt;140587821096128 -->\n",
       "<g class=\"edge\" id=\"edge3\"><title>140587821095904-&gt;140587821096128</title>\n",
       "<path d=\"M234,-913.366C234,-905.152 234,-895.658 234,-886.725\" fill=\"none\" stroke=\"black\"/>\n",
       "<polygon fill=\"black\" points=\"237.5,-886.607 234,-876.607 230.5,-886.607 237.5,-886.607\" stroke=\"black\"/>\n",
       "</g>\n",
       "<!-- 140587821096464 -->\n",
       "<g class=\"node\" id=\"node5\"><title>140587821096464</title>\n",
       "<polygon fill=\"none\" points=\"51.5,-747.5 51.5,-793.5 416.5,-793.5 416.5,-747.5 51.5,-747.5\" stroke=\"black\"/>\n",
       "<text font-family=\"Times,serif\" font-size=\"14.00\" text-anchor=\"middle\" x=\"127\" y=\"-766.8\">conv2d_2: Conv2D</text>\n",
       "<polyline fill=\"none\" points=\"202.5,-747.5 202.5,-793.5 \" stroke=\"black\"/>\n",
       "<text font-family=\"Times,serif\" font-size=\"14.00\" text-anchor=\"middle\" x=\"236.5\" y=\"-778.3\">input:</text>\n",
       "<polyline fill=\"none\" points=\"202.5,-770.5 270.5,-770.5 \" stroke=\"black\"/>\n",
       "<text font-family=\"Times,serif\" font-size=\"14.00\" text-anchor=\"middle\" x=\"236.5\" y=\"-755.3\">output:</text>\n",
       "<polyline fill=\"none\" points=\"270.5,-747.5 270.5,-793.5 \" stroke=\"black\"/>\n",
       "<text font-family=\"Times,serif\" font-size=\"14.00\" text-anchor=\"middle\" x=\"343.5\" y=\"-778.3\">(None, 14, 14, 6)</text>\n",
       "<polyline fill=\"none\" points=\"270.5,-770.5 416.5,-770.5 \" stroke=\"black\"/>\n",
       "<text font-family=\"Times,serif\" font-size=\"14.00\" text-anchor=\"middle\" x=\"343.5\" y=\"-755.3\">(None, 10, 10, 16)</text>\n",
       "</g>\n",
       "<!-- 140587821096128&#45;&gt;140587821096464 -->\n",
       "<g class=\"edge\" id=\"edge4\"><title>140587821096128-&gt;140587821096464</title>\n",
       "<path d=\"M234,-830.366C234,-822.152 234,-812.658 234,-803.725\" fill=\"none\" stroke=\"black\"/>\n",
       "<polygon fill=\"black\" points=\"237.5,-803.607 234,-793.607 230.5,-803.607 237.5,-803.607\" stroke=\"black\"/>\n",
       "</g>\n",
       "<!-- 140587821043440 -->\n",
       "<g class=\"node\" id=\"node6\"><title>140587821043440</title>\n",
       "<polygon fill=\"none\" points=\"33.5,-664.5 33.5,-710.5 434.5,-710.5 434.5,-664.5 33.5,-664.5\" stroke=\"black\"/>\n",
       "<text font-family=\"Times,serif\" font-size=\"14.00\" text-anchor=\"middle\" x=\"127\" y=\"-683.8\">activation_2: Activation</text>\n",
       "<polyline fill=\"none\" points=\"220.5,-664.5 220.5,-710.5 \" stroke=\"black\"/>\n",
       "<text font-family=\"Times,serif\" font-size=\"14.00\" text-anchor=\"middle\" x=\"254.5\" y=\"-695.3\">input:</text>\n",
       "<polyline fill=\"none\" points=\"220.5,-687.5 288.5,-687.5 \" stroke=\"black\"/>\n",
       "<text font-family=\"Times,serif\" font-size=\"14.00\" text-anchor=\"middle\" x=\"254.5\" y=\"-672.3\">output:</text>\n",
       "<polyline fill=\"none\" points=\"288.5,-664.5 288.5,-710.5 \" stroke=\"black\"/>\n",
       "<text font-family=\"Times,serif\" font-size=\"14.00\" text-anchor=\"middle\" x=\"361.5\" y=\"-695.3\">(None, 10, 10, 16)</text>\n",
       "<polyline fill=\"none\" points=\"288.5,-687.5 434.5,-687.5 \" stroke=\"black\"/>\n",
       "<text font-family=\"Times,serif\" font-size=\"14.00\" text-anchor=\"middle\" x=\"361.5\" y=\"-672.3\">(None, 10, 10, 16)</text>\n",
       "</g>\n",
       "<!-- 140587821096464&#45;&gt;140587821043440 -->\n",
       "<g class=\"edge\" id=\"edge5\"><title>140587821096464-&gt;140587821043440</title>\n",
       "<path d=\"M234,-747.366C234,-739.152 234,-729.658 234,-720.725\" fill=\"none\" stroke=\"black\"/>\n",
       "<polygon fill=\"black\" points=\"237.5,-720.607 234,-710.607 230.5,-720.607 237.5,-720.607\" stroke=\"black\"/>\n",
       "</g>\n",
       "<!-- 140587818334360 -->\n",
       "<g class=\"node\" id=\"node7\"><title>140587818334360</title>\n",
       "<polygon fill=\"none\" points=\"0,-581.5 0,-627.5 468,-627.5 468,-581.5 0,-581.5\" stroke=\"black\"/>\n",
       "<text font-family=\"Times,serif\" font-size=\"14.00\" text-anchor=\"middle\" x=\"127\" y=\"-600.8\">max_pooling2d_2: MaxPooling2D</text>\n",
       "<polyline fill=\"none\" points=\"254,-581.5 254,-627.5 \" stroke=\"black\"/>\n",
       "<text font-family=\"Times,serif\" font-size=\"14.00\" text-anchor=\"middle\" x=\"288\" y=\"-612.3\">input:</text>\n",
       "<polyline fill=\"none\" points=\"254,-604.5 322,-604.5 \" stroke=\"black\"/>\n",
       "<text font-family=\"Times,serif\" font-size=\"14.00\" text-anchor=\"middle\" x=\"288\" y=\"-589.3\">output:</text>\n",
       "<polyline fill=\"none\" points=\"322,-581.5 322,-627.5 \" stroke=\"black\"/>\n",
       "<text font-family=\"Times,serif\" font-size=\"14.00\" text-anchor=\"middle\" x=\"395\" y=\"-612.3\">(None, 10, 10, 16)</text>\n",
       "<polyline fill=\"none\" points=\"322,-604.5 468,-604.5 \" stroke=\"black\"/>\n",
       "<text font-family=\"Times,serif\" font-size=\"14.00\" text-anchor=\"middle\" x=\"395\" y=\"-589.3\">(None, 5, 5, 16)</text>\n",
       "</g>\n",
       "<!-- 140587821043440&#45;&gt;140587818334360 -->\n",
       "<g class=\"edge\" id=\"edge6\"><title>140587821043440-&gt;140587818334360</title>\n",
       "<path d=\"M234,-664.366C234,-656.152 234,-646.658 234,-637.725\" fill=\"none\" stroke=\"black\"/>\n",
       "<polygon fill=\"black\" points=\"237.5,-637.607 234,-627.607 230.5,-637.607 237.5,-637.607\" stroke=\"black\"/>\n",
       "</g>\n",
       "<!-- 140587818422456 -->\n",
       "<g class=\"node\" id=\"node8\"><title>140587818422456</title>\n",
       "<polygon fill=\"none\" points=\"56,-498.5 56,-544.5 412,-544.5 412,-498.5 56,-498.5\" stroke=\"black\"/>\n",
       "<text font-family=\"Times,serif\" font-size=\"14.00\" text-anchor=\"middle\" x=\"131.5\" y=\"-517.8\">conv2d_3: Conv2D</text>\n",
       "<polyline fill=\"none\" points=\"207,-498.5 207,-544.5 \" stroke=\"black\"/>\n",
       "<text font-family=\"Times,serif\" font-size=\"14.00\" text-anchor=\"middle\" x=\"241\" y=\"-529.3\">input:</text>\n",
       "<polyline fill=\"none\" points=\"207,-521.5 275,-521.5 \" stroke=\"black\"/>\n",
       "<text font-family=\"Times,serif\" font-size=\"14.00\" text-anchor=\"middle\" x=\"241\" y=\"-506.3\">output:</text>\n",
       "<polyline fill=\"none\" points=\"275,-498.5 275,-544.5 \" stroke=\"black\"/>\n",
       "<text font-family=\"Times,serif\" font-size=\"14.00\" text-anchor=\"middle\" x=\"343.5\" y=\"-529.3\">(None, 5, 5, 16)</text>\n",
       "<polyline fill=\"none\" points=\"275,-521.5 412,-521.5 \" stroke=\"black\"/>\n",
       "<text font-family=\"Times,serif\" font-size=\"14.00\" text-anchor=\"middle\" x=\"343.5\" y=\"-506.3\">(None, 1, 1, 120)</text>\n",
       "</g>\n",
       "<!-- 140587818334360&#45;&gt;140587818422456 -->\n",
       "<g class=\"edge\" id=\"edge7\"><title>140587818334360-&gt;140587818422456</title>\n",
       "<path d=\"M234,-581.366C234,-573.152 234,-563.658 234,-554.725\" fill=\"none\" stroke=\"black\"/>\n",
       "<polygon fill=\"black\" points=\"237.5,-554.607 234,-544.607 230.5,-554.607 237.5,-554.607\" stroke=\"black\"/>\n",
       "</g>\n",
       "<!-- 140587818422568 -->\n",
       "<g class=\"node\" id=\"node9\"><title>140587818422568</title>\n",
       "<polygon fill=\"none\" points=\"38,-415.5 38,-461.5 430,-461.5 430,-415.5 38,-415.5\" stroke=\"black\"/>\n",
       "<text font-family=\"Times,serif\" font-size=\"14.00\" text-anchor=\"middle\" x=\"131.5\" y=\"-434.8\">activation_3: Activation</text>\n",
       "<polyline fill=\"none\" points=\"225,-415.5 225,-461.5 \" stroke=\"black\"/>\n",
       "<text font-family=\"Times,serif\" font-size=\"14.00\" text-anchor=\"middle\" x=\"259\" y=\"-446.3\">input:</text>\n",
       "<polyline fill=\"none\" points=\"225,-438.5 293,-438.5 \" stroke=\"black\"/>\n",
       "<text font-family=\"Times,serif\" font-size=\"14.00\" text-anchor=\"middle\" x=\"259\" y=\"-423.3\">output:</text>\n",
       "<polyline fill=\"none\" points=\"293,-415.5 293,-461.5 \" stroke=\"black\"/>\n",
       "<text font-family=\"Times,serif\" font-size=\"14.00\" text-anchor=\"middle\" x=\"361.5\" y=\"-446.3\">(None, 1, 1, 120)</text>\n",
       "<polyline fill=\"none\" points=\"293,-438.5 430,-438.5 \" stroke=\"black\"/>\n",
       "<text font-family=\"Times,serif\" font-size=\"14.00\" text-anchor=\"middle\" x=\"361.5\" y=\"-423.3\">(None, 1, 1, 120)</text>\n",
       "</g>\n",
       "<!-- 140587818422456&#45;&gt;140587818422568 -->\n",
       "<g class=\"edge\" id=\"edge8\"><title>140587818422456-&gt;140587818422568</title>\n",
       "<path d=\"M234,-498.366C234,-490.152 234,-480.658 234,-471.725\" fill=\"none\" stroke=\"black\"/>\n",
       "<polygon fill=\"black\" points=\"237.5,-471.607 234,-461.607 230.5,-471.607 237.5,-471.607\" stroke=\"black\"/>\n",
       "</g>\n",
       "<!-- 140587818490568 -->\n",
       "<g class=\"node\" id=\"node10\"><title>140587818490568</title>\n",
       "<polygon fill=\"none\" points=\"61.5,-332.5 61.5,-378.5 406.5,-378.5 406.5,-332.5 61.5,-332.5\" stroke=\"black\"/>\n",
       "<text font-family=\"Times,serif\" font-size=\"14.00\" text-anchor=\"middle\" x=\"131.5\" y=\"-351.8\">flatten_1: Flatten</text>\n",
       "<polyline fill=\"none\" points=\"201.5,-332.5 201.5,-378.5 \" stroke=\"black\"/>\n",
       "<text font-family=\"Times,serif\" font-size=\"14.00\" text-anchor=\"middle\" x=\"235.5\" y=\"-363.3\">input:</text>\n",
       "<polyline fill=\"none\" points=\"201.5,-355.5 269.5,-355.5 \" stroke=\"black\"/>\n",
       "<text font-family=\"Times,serif\" font-size=\"14.00\" text-anchor=\"middle\" x=\"235.5\" y=\"-340.3\">output:</text>\n",
       "<polyline fill=\"none\" points=\"269.5,-332.5 269.5,-378.5 \" stroke=\"black\"/>\n",
       "<text font-family=\"Times,serif\" font-size=\"14.00\" text-anchor=\"middle\" x=\"338\" y=\"-363.3\">(None, 1, 1, 120)</text>\n",
       "<polyline fill=\"none\" points=\"269.5,-355.5 406.5,-355.5 \" stroke=\"black\"/>\n",
       "<text font-family=\"Times,serif\" font-size=\"14.00\" text-anchor=\"middle\" x=\"338\" y=\"-340.3\">(None, 120)</text>\n",
       "</g>\n",
       "<!-- 140587818422568&#45;&gt;140587818490568 -->\n",
       "<g class=\"edge\" id=\"edge9\"><title>140587818422568-&gt;140587818490568</title>\n",
       "<path d=\"M234,-415.366C234,-407.152 234,-397.658 234,-388.725\" fill=\"none\" stroke=\"black\"/>\n",
       "<polygon fill=\"black\" points=\"237.5,-388.607 234,-378.607 230.5,-388.607 237.5,-388.607\" stroke=\"black\"/>\n",
       "</g>\n",
       "<!-- 140587818029184 -->\n",
       "<g class=\"node\" id=\"node11\"><title>140587818029184</title>\n",
       "<polygon fill=\"none\" points=\"85.5,-249.5 85.5,-295.5 382.5,-295.5 382.5,-249.5 85.5,-249.5\" stroke=\"black\"/>\n",
       "<text font-family=\"Times,serif\" font-size=\"14.00\" text-anchor=\"middle\" x=\"149.5\" y=\"-268.8\">dense_1: Dense</text>\n",
       "<polyline fill=\"none\" points=\"213.5,-249.5 213.5,-295.5 \" stroke=\"black\"/>\n",
       "<text font-family=\"Times,serif\" font-size=\"14.00\" text-anchor=\"middle\" x=\"247.5\" y=\"-280.3\">input:</text>\n",
       "<polyline fill=\"none\" points=\"213.5,-272.5 281.5,-272.5 \" stroke=\"black\"/>\n",
       "<text font-family=\"Times,serif\" font-size=\"14.00\" text-anchor=\"middle\" x=\"247.5\" y=\"-257.3\">output:</text>\n",
       "<polyline fill=\"none\" points=\"281.5,-249.5 281.5,-295.5 \" stroke=\"black\"/>\n",
       "<text font-family=\"Times,serif\" font-size=\"14.00\" text-anchor=\"middle\" x=\"332\" y=\"-280.3\">(None, 120)</text>\n",
       "<polyline fill=\"none\" points=\"281.5,-272.5 382.5,-272.5 \" stroke=\"black\"/>\n",
       "<text font-family=\"Times,serif\" font-size=\"14.00\" text-anchor=\"middle\" x=\"332\" y=\"-257.3\">(None, 84)</text>\n",
       "</g>\n",
       "<!-- 140587818490568&#45;&gt;140587818029184 -->\n",
       "<g class=\"edge\" id=\"edge10\"><title>140587818490568-&gt;140587818029184</title>\n",
       "<path d=\"M234,-332.366C234,-324.152 234,-314.658 234,-305.725\" fill=\"none\" stroke=\"black\"/>\n",
       "<polygon fill=\"black\" points=\"237.5,-305.607 234,-295.607 230.5,-305.607 237.5,-305.607\" stroke=\"black\"/>\n",
       "</g>\n",
       "<!-- 140587818032488 -->\n",
       "<g class=\"node\" id=\"node12\"><title>140587818032488</title>\n",
       "<polygon fill=\"none\" points=\"60.5,-166.5 60.5,-212.5 407.5,-212.5 407.5,-166.5 60.5,-166.5\" stroke=\"black\"/>\n",
       "<text font-family=\"Times,serif\" font-size=\"14.00\" text-anchor=\"middle\" x=\"154\" y=\"-185.8\">activation_4: Activation</text>\n",
       "<polyline fill=\"none\" points=\"247.5,-166.5 247.5,-212.5 \" stroke=\"black\"/>\n",
       "<text font-family=\"Times,serif\" font-size=\"14.00\" text-anchor=\"middle\" x=\"281.5\" y=\"-197.3\">input:</text>\n",
       "<polyline fill=\"none\" points=\"247.5,-189.5 315.5,-189.5 \" stroke=\"black\"/>\n",
       "<text font-family=\"Times,serif\" font-size=\"14.00\" text-anchor=\"middle\" x=\"281.5\" y=\"-174.3\">output:</text>\n",
       "<polyline fill=\"none\" points=\"315.5,-166.5 315.5,-212.5 \" stroke=\"black\"/>\n",
       "<text font-family=\"Times,serif\" font-size=\"14.00\" text-anchor=\"middle\" x=\"361.5\" y=\"-197.3\">(None, 84)</text>\n",
       "<polyline fill=\"none\" points=\"315.5,-189.5 407.5,-189.5 \" stroke=\"black\"/>\n",
       "<text font-family=\"Times,serif\" font-size=\"14.00\" text-anchor=\"middle\" x=\"361.5\" y=\"-174.3\">(None, 84)</text>\n",
       "</g>\n",
       "<!-- 140587818029184&#45;&gt;140587818032488 -->\n",
       "<g class=\"edge\" id=\"edge11\"><title>140587818029184-&gt;140587818032488</title>\n",
       "<path d=\"M234,-249.366C234,-241.152 234,-231.658 234,-222.725\" fill=\"none\" stroke=\"black\"/>\n",
       "<polygon fill=\"black\" points=\"237.5,-222.607 234,-212.607 230.5,-222.607 237.5,-222.607\" stroke=\"black\"/>\n",
       "</g>\n",
       "<!-- 140587818165528 -->\n",
       "<g class=\"node\" id=\"node13\"><title>140587818165528</title>\n",
       "<polygon fill=\"none\" points=\"90,-83.5 90,-129.5 378,-129.5 378,-83.5 90,-83.5\" stroke=\"black\"/>\n",
       "<text font-family=\"Times,serif\" font-size=\"14.00\" text-anchor=\"middle\" x=\"154\" y=\"-102.8\">dense_2: Dense</text>\n",
       "<polyline fill=\"none\" points=\"218,-83.5 218,-129.5 \" stroke=\"black\"/>\n",
       "<text font-family=\"Times,serif\" font-size=\"14.00\" text-anchor=\"middle\" x=\"252\" y=\"-114.3\">input:</text>\n",
       "<polyline fill=\"none\" points=\"218,-106.5 286,-106.5 \" stroke=\"black\"/>\n",
       "<text font-family=\"Times,serif\" font-size=\"14.00\" text-anchor=\"middle\" x=\"252\" y=\"-91.3\">output:</text>\n",
       "<polyline fill=\"none\" points=\"286,-83.5 286,-129.5 \" stroke=\"black\"/>\n",
       "<text font-family=\"Times,serif\" font-size=\"14.00\" text-anchor=\"middle\" x=\"332\" y=\"-114.3\">(None, 84)</text>\n",
       "<polyline fill=\"none\" points=\"286,-106.5 378,-106.5 \" stroke=\"black\"/>\n",
       "<text font-family=\"Times,serif\" font-size=\"14.00\" text-anchor=\"middle\" x=\"332\" y=\"-91.3\">(None, 10)</text>\n",
       "</g>\n",
       "<!-- 140587818032488&#45;&gt;140587818165528 -->\n",
       "<g class=\"edge\" id=\"edge12\"><title>140587818032488-&gt;140587818165528</title>\n",
       "<path d=\"M234,-166.366C234,-158.152 234,-148.658 234,-139.725\" fill=\"none\" stroke=\"black\"/>\n",
       "<polygon fill=\"black\" points=\"237.5,-139.607 234,-129.607 230.5,-139.607 237.5,-139.607\" stroke=\"black\"/>\n",
       "</g>\n",
       "<!-- 140587818166088 -->\n",
       "<g class=\"node\" id=\"node14\"><title>140587818166088</title>\n",
       "<polygon fill=\"none\" points=\"60.5,-0.5 60.5,-46.5 407.5,-46.5 407.5,-0.5 60.5,-0.5\" stroke=\"black\"/>\n",
       "<text font-family=\"Times,serif\" font-size=\"14.00\" text-anchor=\"middle\" x=\"154\" y=\"-19.8\">activation_5: Activation</text>\n",
       "<polyline fill=\"none\" points=\"247.5,-0.5 247.5,-46.5 \" stroke=\"black\"/>\n",
       "<text font-family=\"Times,serif\" font-size=\"14.00\" text-anchor=\"middle\" x=\"281.5\" y=\"-31.3\">input:</text>\n",
       "<polyline fill=\"none\" points=\"247.5,-23.5 315.5,-23.5 \" stroke=\"black\"/>\n",
       "<text font-family=\"Times,serif\" font-size=\"14.00\" text-anchor=\"middle\" x=\"281.5\" y=\"-8.3\">output:</text>\n",
       "<polyline fill=\"none\" points=\"315.5,-0.5 315.5,-46.5 \" stroke=\"black\"/>\n",
       "<text font-family=\"Times,serif\" font-size=\"14.00\" text-anchor=\"middle\" x=\"361.5\" y=\"-31.3\">(None, 10)</text>\n",
       "<polyline fill=\"none\" points=\"315.5,-23.5 407.5,-23.5 \" stroke=\"black\"/>\n",
       "<text font-family=\"Times,serif\" font-size=\"14.00\" text-anchor=\"middle\" x=\"361.5\" y=\"-8.3\">(None, 10)</text>\n",
       "</g>\n",
       "<!-- 140587818165528&#45;&gt;140587818166088 -->\n",
       "<g class=\"edge\" id=\"edge13\"><title>140587818165528-&gt;140587818166088</title>\n",
       "<path d=\"M234,-83.3664C234,-75.1516 234,-65.6579 234,-56.7252\" fill=\"none\" stroke=\"black\"/>\n",
       "<polygon fill=\"black\" points=\"237.5,-56.6068 234,-46.6068 230.5,-56.6069 237.5,-56.6068\" stroke=\"black\"/>\n",
       "</g>\n",
       "</g>\n",
       "</svg>"
      ],
      "text/plain": [
       "<IPython.core.display.SVG object>"
      ]
     },
     "execution_count": 7,
     "metadata": {},
     "output_type": "execute_result"
    }
   ],
   "source": [
    "plot_model(model, show_shapes=True, to_file=model_name+'_viz.png')\n",
    "SVG(model_to_dot(model, show_shapes=True).create(prog='dot', format='svg'))"
   ]
  },
  {
   "cell_type": "code",
   "execution_count": 8,
   "metadata": {},
   "outputs": [
    {
     "name": "stdout",
     "output_type": "stream",
     "text": [
      "_________________________________________________________________\n",
      "Layer (type)                 Output Shape              Param #   \n",
      "=================================================================\n",
      "input_1 (InputLayer)         (None, 32, 32, 1)         0         \n",
      "_________________________________________________________________\n",
      "conv2d_1 (Conv2D)            (None, 28, 28, 6)         156       \n",
      "_________________________________________________________________\n",
      "activation_1 (Activation)    (None, 28, 28, 6)         0         \n",
      "_________________________________________________________________\n",
      "max_pooling2d_1 (MaxPooling2 (None, 14, 14, 6)         0         \n",
      "_________________________________________________________________\n",
      "conv2d_2 (Conv2D)            (None, 10, 10, 16)        2416      \n",
      "_________________________________________________________________\n",
      "activation_2 (Activation)    (None, 10, 10, 16)        0         \n",
      "_________________________________________________________________\n",
      "max_pooling2d_2 (MaxPooling2 (None, 5, 5, 16)          0         \n",
      "_________________________________________________________________\n",
      "conv2d_3 (Conv2D)            (None, 1, 1, 120)         48120     \n",
      "_________________________________________________________________\n",
      "activation_3 (Activation)    (None, 1, 1, 120)         0         \n",
      "_________________________________________________________________\n",
      "flatten_1 (Flatten)          (None, 120)               0         \n",
      "_________________________________________________________________\n",
      "dense_1 (Dense)              (None, 84)                10164     \n",
      "_________________________________________________________________\n",
      "activation_4 (Activation)    (None, 84)                0         \n",
      "_________________________________________________________________\n",
      "dense_2 (Dense)              (None, 10)                850       \n",
      "_________________________________________________________________\n",
      "activation_5 (Activation)    (None, 10)                0         \n",
      "=================================================================\n",
      "Total params: 61,706\n",
      "Trainable params: 61,706\n",
      "Non-trainable params: 0\n",
      "_________________________________________________________________\n"
     ]
    }
   ],
   "source": [
    "model.summary()"
   ]
  },
  {
   "cell_type": "markdown",
   "metadata": {},
   "source": [
    "# 4. Load dataset "
   ]
  },
  {
   "cell_type": "code",
   "execution_count": 9,
   "metadata": {},
   "outputs": [
    {
     "name": "stdout",
     "output_type": "stream",
     "text": [
      "Downloading data from https://s3.amazonaws.com/img-datasets/mnist.npz\n",
      "11493376/11490434 [==============================] - 2s 0us/step\n"
     ]
    }
   ],
   "source": [
    "(x_train, y_train), (x_test, y_test) = mnist.load_data()"
   ]
  },
  {
   "cell_type": "code",
   "execution_count": 10,
   "metadata": {},
   "outputs": [
    {
     "name": "stdout",
     "output_type": "stream",
     "text": [
      "60000 training samples and 10000 test samples\n"
     ]
    }
   ],
   "source": [
    "print('{0} training samples and {1} test samples'. format(x_train.shape[0], x_test.shape[0]))"
   ]
  },
  {
   "cell_type": "code",
   "execution_count": 11,
   "metadata": {},
   "outputs": [],
   "source": [
    "# we need to pad the images to match their shape to 32x32 pixels\n",
    "x_train = np.lib.pad(x_train, ((0,0), (2,2), (2,2)), 'constant')\n",
    "x_test = np.lib.pad(x_test, ((0,0), (2,2), (2,2)), 'constant')"
   ]
  },
  {
   "cell_type": "code",
   "execution_count": 12,
   "metadata": {},
   "outputs": [],
   "source": [
    "# reshape data to appropriate size\n",
    "if K.image_data_format() == 'channels_first':\n",
    "    x_train = x_train.reshape(x_train.shape[0], img_channels, img_rows, img_cols)\n",
    "    x_test = x_test.reshape(x_test.shape[0], img_channels, img_rows, img_cols)\n",
    "else:\n",
    "    x_train = x_train.reshape(x_train.shape[0], img_rows, img_cols, img_channels)\n",
    "    x_test = x_test.reshape(x_test.shape[0], img_rows, img_cols, img_channels)"
   ]
  },
  {
   "cell_type": "code",
   "execution_count": 13,
   "metadata": {},
   "outputs": [
    {
     "data": {
      "text/plain": [
       "(60000, 32, 32, 1)"
      ]
     },
     "execution_count": 13,
     "metadata": {},
     "output_type": "execute_result"
    }
   ],
   "source": [
    "x_train.shape"
   ]
  },
  {
   "cell_type": "code",
   "execution_count": 14,
   "metadata": {},
   "outputs": [
    {
     "data": {
      "text/plain": [
       "(10000, 32, 32, 1)"
      ]
     },
     "execution_count": 14,
     "metadata": {},
     "output_type": "execute_result"
    }
   ],
   "source": [
    "x_test.shape"
   ]
  },
  {
   "cell_type": "code",
   "execution_count": 15,
   "metadata": {},
   "outputs": [],
   "source": [
    "# normalize the data\n",
    "x_train = x_train.astype('float32')\n",
    "x_test = x_test.astype('float32')\n",
    "x_train /= 255\n",
    "x_test /= 255"
   ]
  },
  {
   "cell_type": "markdown",
   "metadata": {},
   "source": [
    "# 5. Train the model"
   ]
  },
  {
   "cell_type": "code",
   "execution_count": 16,
   "metadata": {
    "scrolled": false
   },
   "outputs": [
    {
     "name": "stdout",
     "output_type": "stream",
     "text": [
      "Train on 60000 samples, validate on 10000 samples\n",
      "Epoch 1/3\n",
      "60000/60000 [==============================] - 17s 290us/step - loss: 1.2524 - acc: 0.5722 - val_loss: 0.3066 - val_acc: 0.9090\n",
      "Epoch 2/3\n",
      "60000/60000 [==============================] - 5s 80us/step - loss: 0.2262 - acc: 0.9307 - val_loss: 0.1557 - val_acc: 0.9481\n",
      "Epoch 3/3\n",
      "60000/60000 [==============================] - 5s 79us/step - loss: 0.1401 - acc: 0.9557 - val_loss: 0.1149 - val_acc: 0.9647\n"
     ]
    }
   ],
   "source": [
    "batch_size = 128\n",
    "num_epochs = 3\n",
    "\n",
    "train_history = model.fit(x_train, y_train, batch_size=batch_size, epochs=num_epochs, \\\n",
    "                          validation_data=(x_test, y_test), shuffle=True)\n",
    "#train_history = model.fit(x_train, y_train, batch_size=batch_size, epochs=num_epochs, \\\n",
    "#                          validation_split=0.2, shuffle=True)"
   ]
  },
  {
   "cell_type": "markdown",
   "metadata": {},
   "source": [
    "# 6. Save the model and training history"
   ]
  },
  {
   "cell_type": "code",
   "execution_count": 17,
   "metadata": {},
   "outputs": [],
   "source": [
    "model.save(model_name+'_weights.h5')\n",
    "with open(model_name+'_hist', 'wb') as hist_file:\n",
    "    pickle.dump(train_history.history, hist_file)"
   ]
  },
  {
   "cell_type": "markdown",
   "metadata": {},
   "source": [
    "# 7. Visualize training history"
   ]
  },
  {
   "cell_type": "code",
   "execution_count": 18,
   "metadata": {},
   "outputs": [
    {
     "data": {
      "image/png": "[encoded data removed]",
      "text/plain": [
       "<matplotlib.figure.Figure at 0x7fdd265e19b0>"
      ]
     },
     "metadata": {},
     "output_type": "display_data"
    }
   ],
   "source": [
    "# summarize history for accuracy\n",
    "plt.plot(train_history.history['acc'])\n",
    "plt.plot(train_history.history['val_acc'])\n",
    "plt.title('model accuracy')\n",
    "plt.ylabel('accuracy')\n",
    "plt.xlabel('epoch')\n",
    "plt.legend(['train', 'test'], loc='lower right')\n",
    "plt.show()"
   ]
  },
  {
   "cell_type": "code",
   "execution_count": 19,
   "metadata": {},
   "outputs": [
    {
     "data": {
      "image/png": "[encoded data removed]",
      "text/plain": [
       "<matplotlib.figure.Figure at 0x7fdd265e1780>"
      ]
     },
     "metadata": {},
     "output_type": "display_data"
    }
   ],
   "source": [
    "# summarize history for loss\n",
    "plt.plot(train_history.history['loss'])\n",
    "plt.plot(train_history.history['val_loss'])\n",
    "plt.title('model loss')\n",
    "plt.ylabel('loss')\n",
    "plt.xlabel('epoch')\n",
    "plt.legend(['train', 'test'], loc='upper right')\n",
    "plt.show()"
   ]
  },
  {
   "cell_type": "markdown",
   "metadata": {},
   "source": [
    "# 8. Load saved model"
   ]
  },
  {
   "cell_type": "code",
   "execution_count": 20,
   "metadata": {},
   "outputs": [],
   "source": [
    "from keras.models import load_model\n",
    "\n",
    "model = load_model(model_name+'_weights.h5')"
   ]
  },
  {
   "cell_type": "markdown",
   "metadata": {},
   "source": [
    "# 9. Predictions on test data"
   ]
  },
  {
   "cell_type": "code",
   "execution_count": 21,
   "metadata": {},
   "outputs": [
    {
     "name": "stdout",
     "output_type": "stream",
     "text": [
      "10000/10000 [==============================] - 1s 79us/step\n"
     ]
    },
    {
     "data": {
      "text/plain": [
       "[0.11489494682773947, 0.9647]"
      ]
     },
     "execution_count": 21,
     "metadata": {},
     "output_type": "execute_result"
    }
   ],
   "source": [
    "model.evaluate(x_test, y_test)"
   ]
  },
  {
   "cell_type": "code",
   "execution_count": 22,
   "metadata": {},
   "outputs": [
    {
     "name": "stdout",
     "output_type": "stream",
     "text": [
      "10000/10000 [==============================] - 1s 52us/step\n"
     ]
    }
   ],
   "source": [
    "y_prob = model.predict(x_test, verbose=1)"
   ]
  },
  {
   "cell_type": "code",
   "execution_count": 23,
   "metadata": {},
   "outputs": [],
   "source": [
    "y_pred = y_prob.argmax(axis=-1)"
   ]
  },
  {
   "cell_type": "markdown",
   "metadata": {},
   "source": [
    "# 10. Evaluate predictions performance"
   ]
  },
  {
   "cell_type": "code",
   "execution_count": 24,
   "metadata": {},
   "outputs": [
    {
     "data": {
      "image/png": "[encoded data removed]",
      "text/plain": [
       "<matplotlib.figure.Figure at 0x7fdd1ed49be0>"
      ]
     },
     "metadata": {},
     "output_type": "display_data"
    }
   ],
   "source": [
    "cm = confusion_matrix(y_test, y_pred)\n",
    "\n",
    "classes = ['0', '1', '2', '3', '4', '5', '6', '7', '8', '9']\n",
    "\n",
    "plt.figure()\n",
    "\n",
    "plt.imshow(cm, interpolation='nearest', cmap=plt.cm.Blues)\n",
    "plt.title('Confusion Matrix')\n",
    "plt.colorbar()\n",
    "tick_marks = np.arange(len(classes))\n",
    "plt.xticks(tick_marks, classes, rotation=45)\n",
    "plt.yticks(tick_marks, classes)\n",
    "\n",
    "fmt = 'd'\n",
    "thresh = cm.max() / 2.\n",
    "for i, j in itertools.product(range(cm.shape[0]), range(cm.shape[1])):\n",
    "    plt.text(j, i, format(cm[i, j], fmt),\n",
    "             horizontalalignment=\"center\",\n",
    "             color=\"white\" if cm[i, j] > thresh else \"black\")\n",
    "\n",
    "plt.tight_layout()\n",
    "plt.ylabel('True label')\n",
    "plt.xlabel('Predicted label')\n",
    "\n",
    "\n",
    "plt.show()"
   ]
  },
  {
   "cell_type": "code",
   "execution_count": 25,
   "metadata": {},
   "outputs": [
    {
     "name": "stdout",
     "output_type": "stream",
     "text": [
      "             precision    recall  f1-score   support\n",
      "\n",
      "          0       0.96      0.99      0.97       980\n",
      "          1       0.99      0.98      0.98      1135\n",
      "          2       0.94      0.98      0.96      1032\n",
      "          3       0.98      0.95      0.96      1010\n",
      "          4       0.98      0.96      0.97       982\n",
      "          5       0.97      0.97      0.97       892\n",
      "          6       0.96      0.99      0.97       958\n",
      "          7       0.96      0.96      0.96      1028\n",
      "          8       0.93      0.96      0.94       974\n",
      "          9       0.97      0.92      0.95      1009\n",
      "\n",
      "avg / total       0.97      0.96      0.96     10000\n",
      "\n"
     ]
    }
   ],
   "source": [
    "print(classification_report(y_test, y_pred))"
   ]
  },
  {
   "cell_type": "markdown",
   "metadata": {},
   "source": [
    "# 11. Error analysis "
   ]
  },
  {
   "cell_type": "code",
   "execution_count": 26,
   "metadata": {},
   "outputs": [],
   "source": [
    "incorrects = np.nonzero(y_pred != y_test)"
   ]
  },
  {
   "cell_type": "code",
   "execution_count": 27,
   "metadata": {},
   "outputs": [
    {
     "data": {
      "text/plain": [
       "(array([  18,   33,   65,   73,  104,  241,  247,  259,  320,  340,  394,\n",
       "         435,  445,  448,  449,  479,  495,  497,  511,  553,  565,  578,\n",
       "         582,  591,  619,  684,  707,  717,  720,  740,  760,  810,  829,\n",
       "         844,  882,  894,  896,  938,  947,  950,  959,  965,  982, 1003,\n",
       "        1014, 1032, 1039, 1044, 1062, 1093, 1107, 1112, 1114, 1119, 1156,\n",
       "        1159, 1178, 1181, 1206, 1226, 1232, 1247, 1256, 1283, 1290, 1299,\n",
       "        1319, 1326, 1355, 1364, 1378, 1393, 1429, 1500, 1522, 1527, 1530,\n",
       "        1549, 1553, 1570, 1571, 1581, 1621, 1634, 1681, 1695, 1709, 1717,\n",
       "        1721, 1737, 1754, 1828, 1850, 1878, 1901, 1938, 1952, 1955, 2016,\n",
       "        2018, 2043, 2070, 2098, 2107, 2109, 2129, 2130, 2135, 2168, 2174,\n",
       "        2182, 2185, 2189, 2229, 2237, 2266, 2272, 2280, 2293, 2325, 2358,\n",
       "        2380, 2387, 2395, 2406, 2422, 2447, 2534, 2560, 2573, 2582, 2598,\n",
       "        2607, 2648, 2654, 2780, 2896, 2927, 2945, 2952, 2953, 3005, 3030,\n",
       "        3060, 3073, 3117, 3129, 3130, 3132, 3206, 3240, 3282, 3316, 3329,\n",
       "        3330, 3333, 3369, 3376, 3437, 3448, 3475, 3503, 3506, 3520, 3549,\n",
       "        3558, 3597, 3604, 3629, 3662, 3723, 3767, 3780, 3796, 3808, 3821,\n",
       "        3836, 3850, 3853, 3869, 3893, 3902, 3906, 3926, 3941, 3943, 3962,\n",
       "        3985, 4065, 4075, 4078, 4093, 4163, 4176, 4207, 4224, 4238, 4248,\n",
       "        4256, 4259, 4265, 4289, 4301, 4306, 4380, 4400, 4435, 4454, 4477,\n",
       "        4497, 4498, 4500, 4511, 4567, 4571, 4575, 4601, 4615, 4639, 4731,\n",
       "        4740, 4751, 4761, 4785, 4807, 4808, 4823, 4837, 4839, 4874, 4879,\n",
       "        4956, 4978, 4990, 5067, 5209, 5246, 5268, 5299, 5331, 5409, 5457,\n",
       "        5600, 5642, 5734, 5749, 5842, 5887, 5888, 5955, 5973, 5982, 5985,\n",
       "        6011, 6023, 6045, 6046, 6059, 6065, 6071, 6081, 6091, 6112, 6157,\n",
       "        6166, 6168, 6172, 6173, 6421, 6505, 6560, 6571, 6576, 6597, 6598,\n",
       "        6603, 6608, 6625, 6632, 6651, 6740, 6783, 7432, 7434, 7446, 7459,\n",
       "        7473, 7580, 7595, 7800, 7812, 7839, 7842, 7847, 7850, 7856, 7858,\n",
       "        7899, 7928, 7990, 7991, 8020, 8062, 8081, 8094, 8095, 8115, 8325,\n",
       "        8408, 8410, 8493, 8520, 9009, 9015, 9019, 9024, 9036, 9045, 9054,\n",
       "        9071, 9163, 9245, 9530, 9539, 9554, 9587, 9634, 9638, 9642, 9655,\n",
       "        9669, 9692, 9716, 9729, 9733, 9745, 9749, 9752, 9764, 9768, 9770,\n",
       "        9811, 9832, 9856, 9863, 9883, 9890, 9891, 9904, 9905, 9944, 9975,\n",
       "        9982]),)"
      ]
     },
     "execution_count": 27,
     "metadata": {},
     "output_type": "execute_result"
    }
   ],
   "source": [
    "incorrects"
   ]
  },
  {
   "cell_type": "code",
   "execution_count": 28,
   "metadata": {},
   "outputs": [],
   "source": [
    "idx = incorrects[0][0]"
   ]
  },
  {
   "cell_type": "code",
   "execution_count": 29,
   "metadata": {},
   "outputs": [
    {
     "data": {
      "text/plain": [
       "18"
      ]
     },
     "execution_count": 29,
     "metadata": {},
     "output_type": "execute_result"
    }
   ],
   "source": [
    "idx"
   ]
  },
  {
   "cell_type": "markdown",
   "metadata": {},
   "source": [
    "# Visualize the filters"
   ]
  },
  {
   "cell_type": "code",
   "execution_count": 30,
   "metadata": {},
   "outputs": [
    {
     "data": {
      "image/png": "[encoded data removed]",
      "text/plain": [
       "<matplotlib.figure.Figure at 0x7fdd1e7e1dd8>"
      ]
     },
     "metadata": {},
     "output_type": "display_data"
    }
   ],
   "source": [
    "layer = 1\n",
    "plt.figure(1, figsize=(15,15))\n",
    "#W = np.squeeze(model.layers[layer].get_weights()[0])\n",
    "#W = np.reshape(W, (32,3,3,1))\n",
    "for row in range(1):\n",
    "    for col in range(6):\n",
    "        imgnum = row*6+col\n",
    "        if imgnum > 31:\n",
    "            break\n",
    "        filter = model.layers[layer].get_weights()[0][:,:,:,imgnum]\n",
    "        #filter = W[imgnum,:,:]\n",
    "        filter /= 2\n",
    "        filter += 1\n",
    "        img = cv2.cvtColor(filter, cv2.COLOR_GRAY2RGB)\n",
    "        plt.subplot(6,6,imgnum+1)\n",
    "        plt.title('Layer {0} - Filter {1}'.format(layer+1, imgnum+1))\n",
    "        plt.imshow(img)\n",
    "        \n",
    "\n",
    "plt.tight_layout()\n",
    "plt.show()"
   ]
  },
  {
   "cell_type": "markdown",
   "metadata": {},
   "source": [
    "### 1. View the input image "
   ]
  },
  {
   "cell_type": "code",
   "execution_count": 31,
   "metadata": {},
   "outputs": [
    {
     "data": {
      "text/plain": [
       "(32, 32, 1)"
      ]
     },
     "execution_count": 31,
     "metadata": {},
     "output_type": "execute_result"
    }
   ],
   "source": [
    "idx = 2\n",
    "img = x_train[idx]\n",
    "img.shape"
   ]
  },
  {
   "cell_type": "code",
   "execution_count": 32,
   "metadata": {},
   "outputs": [
    {
     "data": {
      "text/plain": [
       "(32, 32, 3)"
      ]
     },
     "execution_count": 32,
     "metadata": {},
     "output_type": "execute_result"
    }
   ],
   "source": [
    "disp_img = cv2.cvtColor(img, cv2.COLOR_GRAY2RGB)\n",
    "disp_img.shape"
   ]
  },
  {
   "cell_type": "code",
   "execution_count": 33,
   "metadata": {},
   "outputs": [
    {
     "data": {
      "image/png": "[encoded data removed]",
      "text/plain": [
       "<matplotlib.figure.Figure at 0x7fdd1e817fd0>"
      ]
     },
     "metadata": {},
     "output_type": "display_data"
    }
   ],
   "source": [
    "plt.imshow(disp_img)\n",
    "plt.show()"
   ]
  },
  {
   "cell_type": "code",
   "execution_count": 34,
   "metadata": {},
   "outputs": [
    {
     "data": {
      "text/plain": [
       "4"
      ]
     },
     "execution_count": 34,
     "metadata": {},
     "output_type": "execute_result"
    }
   ],
   "source": [
    "y_train[idx]"
   ]
  },
  {
   "cell_type": "markdown",
   "metadata": {},
   "source": [
    "# 2. View the output of first convolution layer"
   ]
  },
  {
   "cell_type": "code",
   "execution_count": 35,
   "metadata": {},
   "outputs": [],
   "source": [
    "layer = 2\n",
    "get_layer_output = K.function([model.layers[0].input], [model.layers[1].output])"
   ]
  },
  {
   "cell_type": "code",
   "execution_count": 36,
   "metadata": {},
   "outputs": [],
   "source": [
    "r_img = np.reshape(img, (1, 32, 32, 1))\n",
    "layer_output = get_layer_output([r_img])"
   ]
  },
  {
   "cell_type": "code",
   "execution_count": 37,
   "metadata": {},
   "outputs": [
    {
     "data": {
      "text/plain": [
       "(1, 28, 28, 6)"
      ]
     },
     "execution_count": 37,
     "metadata": {},
     "output_type": "execute_result"
    }
   ],
   "source": [
    "layer_output[0].shape"
   ]
  },
  {
   "cell_type": "code",
   "execution_count": 38,
   "metadata": {
    "scrolled": false
   },
   "outputs": [
    {
     "data": {
      "image/png": "[encoded data removed]",
      "text/plain": [
       "<matplotlib.figure.Figure at 0x7fdd1edd0ef0>"
      ]
     },
     "metadata": {},
     "output_type": "display_data"
    }
   ],
   "source": [
    "plt.figure(1, figsize=(15,15))\n",
    "\n",
    "activs = layer_output[0]\n",
    "activs = np.squeeze(layer_output[0])\n",
    "\n",
    "for row in range(1):\n",
    "    for col in range(6):\n",
    "        imgnum = row*6+col\n",
    "        if imgnum > 31:\n",
    "            break\n",
    "        filter = activs[:,:,imgnum]\n",
    "        activ_img = cv2.cvtColor(filter, cv2.COLOR_GRAY2RGB)\n",
    "        plt.subplot(6,6,imgnum+1)\n",
    "        plt.title('Layer {0} - Filter {1}'.format(layer+1, imgnum+1))\n",
    "        #plt.imshow(activ_img)\n",
    "        plt.imshow(filter, cmap='gray')\n",
    "        \n",
    "\n",
    "plt.tight_layout()\n",
    "plt.show()"
   ]
  },
  {
   "cell_type": "markdown",
   "metadata": {},
   "source": [
    "# 2. View the output of first max pooling layer"
   ]
  },
  {
   "cell_type": "code",
   "execution_count": 39,
   "metadata": {},
   "outputs": [],
   "source": [
    "layer = 3\n",
    "get_layer_output = K.function([model.layers[0].input], [model.layers[layer].output])"
   ]
  },
  {
   "cell_type": "code",
   "execution_count": 40,
   "metadata": {},
   "outputs": [],
   "source": [
    "r_img = np.reshape(img, (1, 32, 32, 1))\n",
    "layer_output = get_layer_output([r_img])"
   ]
  },
  {
   "cell_type": "code",
   "execution_count": 41,
   "metadata": {},
   "outputs": [
    {
     "data": {
      "text/plain": [
       "(1, 14, 14, 6)"
      ]
     },
     "execution_count": 41,
     "metadata": {},
     "output_type": "execute_result"
    }
   ],
   "source": [
    "layer_output[0].shape"
   ]
  },
  {
   "cell_type": "code",
   "execution_count": 42,
   "metadata": {},
   "outputs": [
    {
     "data": {
      "image/png": "[encoded data removed]",
      "text/plain": [
       "<matplotlib.figure.Figure at 0x7fdd1b22cba8>"
      ]
     },
     "metadata": {},
     "output_type": "display_data"
    }
   ],
   "source": [
    "plt.figure(1, figsize=(15,15))\n",
    "\n",
    "activs = layer_output[0]\n",
    "activs = np.squeeze(layer_output[0])\n",
    "\n",
    "for row in range(1):\n",
    "    for col in range(6):\n",
    "        imgnum = row*6+col\n",
    "        if imgnum > 5:\n",
    "            break\n",
    "        filter = activs[:,:,imgnum]\n",
    "        activ_img = cv2.cvtColor(filter, cv2.COLOR_GRAY2RGB)\n",
    "        plt.subplot(6,6,imgnum+1)\n",
    "        plt.title('Layer {0} - Filter {1}'.format(layer+1, imgnum+1))\n",
    "        plt.imshow(activ_img)\n",
    "        \n",
    "\n",
    "plt.tight_layout()\n",
    "plt.show()\n",
    "        "
   ]
  },
  {
   "cell_type": "markdown",
   "metadata": {},
   "source": [
    "# 3. View the output of second convolution layer"
   ]
  },
  {
   "cell_type": "code",
   "execution_count": 43,
   "metadata": {},
   "outputs": [],
   "source": [
    "layer = 4\n",
    "get_layer_output = K.function([model.layers[0].input], [model.layers[layer].output])"
   ]
  },
  {
   "cell_type": "code",
   "execution_count": 44,
   "metadata": {},
   "outputs": [],
   "source": [
    "r_img = np.reshape(img, (1, 32, 32, 1))\n",
    "layer_output = get_layer_output([r_img])"
   ]
  },
  {
   "cell_type": "code",
   "execution_count": 45,
   "metadata": {},
   "outputs": [
    {
     "data": {
      "text/plain": [
       "(1, 10, 10, 16)"
      ]
     },
     "execution_count": 45,
     "metadata": {},
     "output_type": "execute_result"
    }
   ],
   "source": [
    "layer_output[0].shape"
   ]
  },
  {
   "cell_type": "code",
   "execution_count": 46,
   "metadata": {},
   "outputs": [
    {
     "data": {
      "image/png": "[encoded data removed]",
      "text/plain": [
       "<matplotlib.figure.Figure at 0x7fdd1a7f49e8>"
      ]
     },
     "metadata": {},
     "output_type": "display_data"
    }
   ],
   "source": [
    "plt.figure(1, figsize=(15,15))\n",
    "\n",
    "activs = layer_output[0]\n",
    "activs = np.squeeze(layer_output[0])\n",
    "\n",
    "for row in range(3):\n",
    "    for col in range(6):\n",
    "        imgnum = row*6+col\n",
    "        if imgnum > 15:\n",
    "            break\n",
    "        filter = activs[:,:,imgnum]\n",
    "        activ_img = cv2.cvtColor(filter, cv2.COLOR_GRAY2RGB)\n",
    "        plt.subplot(6,6,imgnum+1)\n",
    "        plt.title('Layer {0} - Filter {1}'.format(layer+1, imgnum+1))\n",
    "        #plt.imshow(activ_img)\n",
    "        plt.imshow(filter, cmap='gray')\n",
    "        \n",
    "\n",
    "plt.tight_layout()\n",
    "plt.show()\n",
    "        "
   ]
  },
  {
   "cell_type": "markdown",
   "metadata": {},
   "source": [
    "# 4. View the output of second max pooling layer"
   ]
  },
  {
   "cell_type": "code",
   "execution_count": 47,
   "metadata": {},
   "outputs": [],
   "source": [
    "layer = 5\n",
    "get_layer_output = K.function([model.layers[0].input], [model.layers[layer].output])"
   ]
  },
  {
   "cell_type": "code",
   "execution_count": 48,
   "metadata": {},
   "outputs": [],
   "source": [
    "r_img = np.reshape(img, (1, 32, 32, 1))\n",
    "layer_output = get_layer_output([r_img])"
   ]
  },
  {
   "cell_type": "code",
   "execution_count": 49,
   "metadata": {},
   "outputs": [
    {
     "data": {
      "text/plain": [
       "(1, 10, 10, 16)"
      ]
     },
     "execution_count": 49,
     "metadata": {},
     "output_type": "execute_result"
    }
   ],
   "source": [
    "layer_output[0].shape"
   ]
  },
  {
   "cell_type": "code",
   "execution_count": 50,
   "metadata": {},
   "outputs": [
    {
     "data": {
      "image/png": "[encoded data removed]",
      "text/plain": [
       "<matplotlib.figure.Figure at 0x7fdd1b25a5f8>"
      ]
     },
     "metadata": {},
     "output_type": "display_data"
    }
   ],
   "source": [
    "plt.figure(1, figsize=(15,15))\n",
    "\n",
    "activs = layer_output[0]\n",
    "activs = np.squeeze(layer_output[0])\n",
    "\n",
    "for row in range(3):\n",
    "    for col in range(6):\n",
    "        imgnum = row*6+col\n",
    "        if imgnum > 15:\n",
    "            break\n",
    "        filter = activs[:,:,imgnum]\n",
    "        activ_img = cv2.cvtColor(filter, cv2.COLOR_GRAY2RGB)\n",
    "        plt.subplot(6,6,imgnum+1)\n",
    "        plt.title('Layer {0} - Filter {1}'.format(layer+1, imgnum+1))\n",
    "        plt.imshow(activ_img)\n",
    "        \n",
    "\n",
    "plt.tight_layout()\n",
    "plt.show()"
   ]
  },
  {
   "cell_type": "code",
   "execution_count": null,
   "metadata": {},
   "outputs": [],
   "source": []
  }
 ],
 "metadata": {
  "kernelspec": {
   "display_name": "Python 3",
   "language": "python",
   "name": "python3"
  },
  "language_info": {
   "codemirror_mode": {
    "name": "ipython",
    "version": 3
   },
   "file_extension": ".py",
   "mimetype": "text/x-python",
   "name": "python",
   "nbconvert_exporter": "python",
   "pygments_lexer": "ipython3",
   "version": "3.5.2"
  }
 },
 "nbformat": 4,
 "nbformat_minor": 2
}
